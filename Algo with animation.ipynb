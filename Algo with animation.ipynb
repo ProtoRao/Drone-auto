{
 "cells": [
  {
   "cell_type": "code",
   "execution_count": 1,
   "id": "bfe37103",
   "metadata": {},
   "outputs": [
    {
     "data": {
      "text/html": [
       "<style>.container { width:100% !important; }</style>"
      ],
      "text/plain": [
       "<IPython.core.display.HTML object>"
      ]
     },
     "metadata": {},
     "output_type": "display_data"
    }
   ],
   "source": [
    "import matplotlib.pyplot as plt\n",
    "import numpy as np\n",
    "import matplotlib.animation as animation\n",
    "import random\n",
    "from operator import add\n",
    "import pandas as pd\n",
    "import math\n",
    "import warnings\n",
    "warnings.simplefilter(action='ignore', category=FutureWarning)\n",
    "warnings.filterwarnings(\"ignore\")\n",
    "\n",
    "%matplotlib inline\n",
    "from IPython.display import display, HTML\n",
    "display(HTML(\"<style>.container { width:100% !important; }</style>\"))"
   ]
  },
  {
   "cell_type": "code",
   "execution_count": null,
   "id": "30a1b0aa",
   "metadata": {},
   "outputs": [],
   "source": []
  },
  {
   "cell_type": "code",
   "execution_count": null,
   "id": "fb0d61ab",
   "metadata": {},
   "outputs": [],
   "source": []
  },
  {
   "cell_type": "code",
   "execution_count": 250,
   "id": "765123ad",
   "metadata": {},
   "outputs": [
    {
     "data": {
      "image/png": "[encoded data removed]",
      "text/plain": [
       "<Figure size 640x480 with 1 Axes>"
      ]
     },
     "metadata": {},
     "output_type": "display_data"
    }
   ],
   "source": [
    "fig, ax = plt.subplots()\n",
    "x = [random.uniform(0, 10) for _ in range(10)]\n",
    "y = [random.uniform(0, 10) for _ in range(10)]\n",
    "scat = ax.scatter(x, y)\n",
    "plt.xlim([0, 10])\n",
    "plt.ylim([0, 10])\n",
    "pos = pd.DataFrame(columns=['x', 'y','xd','yd','xv','yv','xa','ya','xyd'])\n",
    "k=0.1\n",
    "acc=0\n",
    "pos['x'] = [random.uniform(0, 10) for _ in range(10)]\n",
    "pos['y'] = [random.uniform(0, 10) for _ in range(10)]\n",
    "pos['xv'] = 0\n",
    "pos['yv'] = 0\n",
    "pos['xa'] = 0\n",
    "pos['ya'] = 0\n",
    "pos['xd'] = [np.zeros(10) for _ in range(10)]\n",
    "pos['yd'] = [np.zeros(10) for _ in range(10)]\n",
    "pos['xyd'] = [np.zeros(10) for _ in range(10)]\n",
    "x0=5.0\n",
    "maxd=1.5\n",
    "dt=10/1000\n",
    "def update(frame):\n",
    "    global x,y,pos\n",
    "    for i in range(len(pos)):\n",
    "        pos.loc[:, 'xd'].iloc[i] = pos['x'] - pos['x'].iloc[i]\n",
    "        pos.loc[:, 'yd'].iloc[i] = pos['y'] - pos['y'].iloc[i]\n",
    "        pos.loc[:, 'xyd'].iloc[i] = (pos.loc[i,'xd']**2+pos.loc[i,'yd']**2)**0.5\n",
    "        pos.loc[i,'xyd'][pos['xyd'][i]>x0*maxd] = np.nan\n",
    "        pos.loc[i,'xyd'][pos['xyd'][i]==0.0] = np.nan\n",
    "    pos['xa'] = (k*(x0-pos['xyd'])*pos['x']/pos['xyd']).apply(np.nansum)\n",
    "    pos['ya'] = (k*(x0-pos['xyd'])*pos['y']/pos['xyd']).apply(np.nansum)\n",
    "    pos['x'] += pos['xv']*dt + 0.5*pos['xa']*dt*dt\n",
    "    pos['y'] += pos['yv']*dt + 0.5*pos['ya']*dt*dt\n",
    "    pos['xv'] += pos['xa']*dt\n",
    "    pos['yv'] += pos['ya']*dt\n",
    "    pos[pos['x']>10]=10\n",
    "    pos[pos['x']<0] = 0\n",
    "    pos[pos['y']>10] = 10\n",
    "    pos[pos['y']<0] = 0\n",
    "    data = np.stack([pos['x'], pos['y']]).T\n",
    "    scat.set_offsets(data)\n",
    "    #scat = ax.scatter(x,y)\n",
    "    return scat\n",
    "\n",
    "ani = animation.FuncAnimation(fig=fig, func=update,frames=60, interval=dt*1000)\n",
    "#ani.save()\n",
    "plt.show()"
   ]
  },
  {
   "cell_type": "code",
   "execution_count": 2,
   "id": "bd1fa835",
   "metadata": {},
   "outputs": [
    {
     "ename": "NameError",
     "evalue": "name 'pos' is not defined",
     "output_type": "error",
     "traceback": [
      "\u001b[1;31m---------------------------------------------------------------------------\u001b[0m",
      "\u001b[1;31mNameError\u001b[0m                                 Traceback (most recent call last)",
      "\u001b[1;32md:\\Drone\\Algo with animation.ipynb Cell 5\u001b[0m line \u001b[0;36m1\n\u001b[1;32m----> <a href='vscode-notebook-cell:/d%3A/Drone/Algo%20with%20animation.ipynb#W2sZmlsZQ%3D%3D?line=0'>1</a>\u001b[0m pos\n",
      "\u001b[1;31mNameError\u001b[0m: name 'pos' is not defined"
     ]
    }
   ],
   "source": [
    "pos"
   ]
  },
  {
   "cell_type": "code",
   "execution_count": 262,
   "id": "d28ee920",
   "metadata": {},
   "outputs": [
    {
     "data": {
      "text/plain": [
       "0    [nan, 0.06588313511307778, 0.5877634292332214,...\n",
       "1    [0.03529360039939955, nan, -0.0230489312947573...\n",
       "2    [0.44579416265958954, -0.03263329321526048, na...\n",
       "3    [nan, 0.014454482636788528, -0.013590245512368...\n",
       "4    [-0.020794200515830953, 0.10588206228899563, 0...\n",
       "5    [0.00768565166933937, 0.45574132425771086, -0....\n",
       "6    [nan, 0.0024638489601335987, nan, 0.0261652669...\n",
       "7    [0.9931935660500413, 0.3569160542225746, 0.075...\n",
       "8    [0.10500950169246748, 0.13314404070109073, 0.4...\n",
       "9    [0.2145413489038353, -0.09298527945346266, -0....\n",
       "dtype: object"
      ]
     },
     "execution_count": 262,
     "metadata": {},
     "output_type": "execute_result"
    }
   ],
   "source": [
    "k*(x0-pos['xyd'])*pos['x']/pos['xyd']"
   ]
  },
  {
   "cell_type": "code",
   "execution_count": 264,
   "id": "50deee2b",
   "metadata": {},
   "outputs": [
    {
     "data": {
      "text/plain": [
       "0.7421471417291123"
      ]
     },
     "execution_count": 264,
     "metadata": {},
     "output_type": "execute_result"
    }
   ],
   "source": [
    "np.nansum((k*(x0-pos['xyd'])*pos['x']/pos['xyd'])[2])"
   ]
  },
  {
   "cell_type": "code",
   "execution_count": null,
   "id": "f20cc895",
   "metadata": {},
   "outputs": [],
   "source": []
  },
  {
   "cell_type": "code",
   "execution_count": 255,
   "id": "07e9e354",
   "metadata": {},
   "outputs": [
    {
     "data": {
      "text/plain": [
       "0    [nan, 0.03900003232255145, 0.21505609262015107...\n",
       "1    [0.03900003232255145, nan, -0.0292395862125765...\n",
       "2    [0.21505609262015107, -0.02923958621257654, na...\n",
       "3    [nan, 0.1255412488083136, -0.23015643939048866...\n",
       "4    [-0.049988581769822286, 0.1581907581155702, 0....\n",
       "5    [0.005928688282451411, 0.20786749283603606, -0...\n",
       "6    [nan, 0.033582408705572143, nan, 0.21665354321...\n",
       "7    [0.28528378677714933, 0.16158323697257818, 0.0...\n",
       "8    [0.1052729879164569, 0.12635064745228025, 0.26...\n",
       "9    [0.09094692819993044, -0.05331970081464874, -0...\n",
       "Name: xyd, dtype: object"
      ]
     },
     "execution_count": 255,
     "metadata": {},
     "output_type": "execute_result"
    }
   ],
   "source": [
    "k*(x0-pos['xyd'])"
   ]
  },
  {
   "cell_type": "code",
   "execution_count": null,
   "id": "52e12dd3",
   "metadata": {},
   "outputs": [],
   "source": []
  },
  {
   "cell_type": "code",
   "execution_count": 42,
   "id": "05b25a02",
   "metadata": {},
   "outputs": [],
   "source": [
    "pos = pd.DataFrame(columns=['x', 'y','xd','yd','xv','yv','xa','ya','xyd'])\n",
    "pos['x'] = [random.uniform(0, 10) for _ in range(10)]\n",
    "pos['y'] = [random.uniform(0, 10) for _ in range(10)]\n",
    "pos['xv'] = 0\n",
    "pos['yv'] = 0\n",
    "pos['xa'] = 0\n",
    "pos['ya'] = 0\n",
    "pos['xd'] = [np.zeros(10) for _ in range(10)]\n",
    "pos['yd'] = [np.zeros(10) for _ in range(10)]\n",
    "pos['xyd'] = [np.zeros(10) for _ in range(10)]\n",
    "x0=5.0\n",
    "maxd=1.5\n",
    "dt=10/1000\n",
    "for i in range(len(pos)):\n",
    "    pos.loc[:, 'xd'].iloc[i] = pos['x'] - pos['x'].iloc[i]\n",
    "    pos.loc[:, 'yd'].iloc[i] = pos['y'] - pos['y'].iloc[i]\n",
    "    pos.loc[:, 'xyd'].iloc[i] = (pos.loc[i,'xd']**2+pos.loc[i,'yd']**2)**0.5\n",
    "#     pos.loc[i,'xyd'][pos['xyd'][i]>x0*maxd] = np.nan\n",
    "#     pos.loc[i,'xyd'][pos['xyd'][i]==0.0] = np.nan\n",
    "# pos['xa'] = (k*(x0-pos['xyd'])*pos['x']/pos['xyd']).apply(np.nansum)\n",
    "# pos['ya'] = (k*(x0-pos['xyd'])*pos['y']/pos['xyd']).apply(np.nansum)\n",
    "# pos['x'] += pos['xv']*dt + 0.5*pos['xa']*dt*dt\n",
    "# pos['y'] += pos['yv']*dt + 0.5*pos['ya']*dt*dt\n",
    "# pos['xv'] += pos['xa']*dt\n",
    "# pos['yv'] += pos['ya']*dt"
   ]
  },
  {
   "cell_type": "code",
   "execution_count": 43,
   "id": "4ad04d8d",
   "metadata": {},
   "outputs": [
    {
     "data": {
      "text/html": [
       "<div>\n",
       "<style scoped>\n",
       "    .dataframe tbody tr th:only-of-type {\n",
       "        vertical-align: middle;\n",
       "    }\n",
       "\n",
       "    .dataframe tbody tr th {\n",
       "        vertical-align: top;\n",
       "    }\n",
       "\n",
       "    .dataframe thead th {\n",
       "        text-align: right;\n",
       "    }\n",
       "</style>\n",
       "<table border=\"1\" class=\"dataframe\">\n",
       "  <thead>\n",
       "    <tr style=\"text-align: right;\">\n",
       "      <th></th>\n",
       "      <th>x</th>\n",
       "      <th>y</th>\n",
       "      <th>xd</th>\n",
       "      <th>yd</th>\n",
       "      <th>xv</th>\n",
       "      <th>yv</th>\n",
       "      <th>xa</th>\n",
       "      <th>ya</th>\n",
       "      <th>xyd</th>\n",
       "    </tr>\n",
       "  </thead>\n",
       "  <tbody>\n",
       "    <tr>\n",
       "      <th>0</th>\n",
       "      <td>2.839802</td>\n",
       "      <td>3.636147</td>\n",
       "      <td>[0.0, 0.691712786391284, 2.9734749958374103, 2...</td>\n",
       "      <td>[0.0, 2.8609864998811334, 0.5967008102276159, ...</td>\n",
       "      <td>0</td>\n",
       "      <td>0</td>\n",
       "      <td>0</td>\n",
       "      <td>0</td>\n",
       "      <td>[0.0, 2.943418137363309, 3.032755415096407, 2....</td>\n",
       "    </tr>\n",
       "    <tr>\n",
       "      <th>1</th>\n",
       "      <td>3.531515</td>\n",
       "      <td>6.497133</td>\n",
       "      <td>[-0.691712786391284, 0.0, 2.2817622094461263, ...</td>\n",
       "      <td>[-2.8609864998811334, 0.0, -2.2642856896535175...</td>\n",
       "      <td>0</td>\n",
       "      <td>0</td>\n",
       "      <td>0</td>\n",
       "      <td>0</td>\n",
       "      <td>[2.943418137363309, 0.0, 3.2145650506446706, 2...</td>\n",
       "    </tr>\n",
       "    <tr>\n",
       "      <th>2</th>\n",
       "      <td>5.813277</td>\n",
       "      <td>4.232848</td>\n",
       "      <td>[-2.9734749958374103, -2.2817622094461263, 0.0...</td>\n",
       "      <td>[-0.5967008102276159, 2.2642856896535175, 0.0,...</td>\n",
       "      <td>0</td>\n",
       "      <td>0</td>\n",
       "      <td>0</td>\n",
       "      <td>0</td>\n",
       "      <td>[3.032755415096407, 3.2145650506446706, 0.0, 0...</td>\n",
       "    </tr>\n",
       "    <tr>\n",
       "      <th>3</th>\n",
       "      <td>5.065369</td>\n",
       "      <td>4.283405</td>\n",
       "      <td>[-2.2255668849902728, -1.5338540985989888, 0.7...</td>\n",
       "      <td>[-0.647257745978373, 2.2137287539027604, -0.05...</td>\n",
       "      <td>0</td>\n",
       "      <td>0</td>\n",
       "      <td>0</td>\n",
       "      <td>0</td>\n",
       "      <td>[2.31777707066368, 2.6931957581365644, 0.74961...</td>\n",
       "    </tr>\n",
       "    <tr>\n",
       "      <th>4</th>\n",
       "      <td>5.819518</td>\n",
       "      <td>4.815605</td>\n",
       "      <td>[-2.979716405903128, -2.288003619511844, -0.00...</td>\n",
       "      <td>[-1.1794584526445995, 1.681528047236534, -0.58...</td>\n",
       "      <td>0</td>\n",
       "      <td>0</td>\n",
       "      <td>0</td>\n",
       "      <td>0</td>\n",
       "      <td>[3.2046578758305926, 2.839453668673326, 0.5827...</td>\n",
       "    </tr>\n",
       "    <tr>\n",
       "      <th>5</th>\n",
       "      <td>9.475824</td>\n",
       "      <td>6.945095</td>\n",
       "      <td>[-6.6360217019436165, -5.944308915552332, -3.6...</td>\n",
       "      <td>[-3.308948334990851, -0.44796183510971765, -2....</td>\n",
       "      <td>0</td>\n",
       "      <td>0</td>\n",
       "      <td>0</td>\n",
       "      <td>0</td>\n",
       "      <td>[7.4152493627864855, 5.961164172309785, 4.5574...</td>\n",
       "    </tr>\n",
       "    <tr>\n",
       "      <th>6</th>\n",
       "      <td>1.358077</td>\n",
       "      <td>0.123979</td>\n",
       "      <td>[1.4817252846760234, 2.1734380710673076, 4.455...</td>\n",
       "      <td>[3.5121682838735055, 6.373154783754639, 4.1088...</td>\n",
       "      <td>0</td>\n",
       "      <td>0</td>\n",
       "      <td>0</td>\n",
       "      <td>0</td>\n",
       "      <td>[3.811933351134986, 6.733567772470953, 6.06066...</td>\n",
       "    </tr>\n",
       "    <tr>\n",
       "      <th>7</th>\n",
       "      <td>6.972153</td>\n",
       "      <td>5.323351</td>\n",
       "      <td>[-4.132350906292267, -3.440638119900983, -1.15...</td>\n",
       "      <td>[-1.687204458083305, 1.1737820417978284, -1.09...</td>\n",
       "      <td>0</td>\n",
       "      <td>0</td>\n",
       "      <td>0</td>\n",
       "      <td>0</td>\n",
       "      <td>[4.463516875302556, 3.6353479824857, 1.5912861...</td>\n",
       "    </tr>\n",
       "    <tr>\n",
       "      <th>8</th>\n",
       "      <td>1.064087</td>\n",
       "      <td>4.589433</td>\n",
       "      <td>[1.7757151671327422, 2.467427953524026, 4.7491...</td>\n",
       "      <td>[-0.9532859534480105, 1.907700546433123, -0.35...</td>\n",
       "      <td>0</td>\n",
       "      <td>0</td>\n",
       "      <td>0</td>\n",
       "      <td>0</td>\n",
       "      <td>[2.015420170541752, 3.11889757457551, 4.762558...</td>\n",
       "    </tr>\n",
       "    <tr>\n",
       "      <th>9</th>\n",
       "      <td>1.197483</td>\n",
       "      <td>5.227476</td>\n",
       "      <td>[1.6423183591078774, 2.3340311454991616, 4.615...</td>\n",
       "      <td>[-1.5913293488321916, 1.2696571510489418, -0.9...</td>\n",
       "      <td>0</td>\n",
       "      <td>0</td>\n",
       "      <td>0</td>\n",
       "      <td>0</td>\n",
       "      <td>[2.2868184643992793, 2.6570153686740023, 4.721...</td>\n",
       "    </tr>\n",
       "  </tbody>\n",
       "</table>\n",
       "</div>"
      ],
      "text/plain": [
       "          x         y                                                 xd  \\\n",
       "0  2.839802  3.636147  [0.0, 0.691712786391284, 2.9734749958374103, 2...   \n",
       "1  3.531515  6.497133  [-0.691712786391284, 0.0, 2.2817622094461263, ...   \n",
       "2  5.813277  4.232848  [-2.9734749958374103, -2.2817622094461263, 0.0...   \n",
       "3  5.065369  4.283405  [-2.2255668849902728, -1.5338540985989888, 0.7...   \n",
       "4  5.819518  4.815605  [-2.979716405903128, -2.288003619511844, -0.00...   \n",
       "5  9.475824  6.945095  [-6.6360217019436165, -5.944308915552332, -3.6...   \n",
       "6  1.358077  0.123979  [1.4817252846760234, 2.1734380710673076, 4.455...   \n",
       "7  6.972153  5.323351  [-4.132350906292267, -3.440638119900983, -1.15...   \n",
       "8  1.064087  4.589433  [1.7757151671327422, 2.467427953524026, 4.7491...   \n",
       "9  1.197483  5.227476  [1.6423183591078774, 2.3340311454991616, 4.615...   \n",
       "\n",
       "                                                  yd  xv  yv  xa  ya  \\\n",
       "0  [0.0, 2.8609864998811334, 0.5967008102276159, ...   0   0   0   0   \n",
       "1  [-2.8609864998811334, 0.0, -2.2642856896535175...   0   0   0   0   \n",
       "2  [-0.5967008102276159, 2.2642856896535175, 0.0,...   0   0   0   0   \n",
       "3  [-0.647257745978373, 2.2137287539027604, -0.05...   0   0   0   0   \n",
       "4  [-1.1794584526445995, 1.681528047236534, -0.58...   0   0   0   0   \n",
       "5  [-3.308948334990851, -0.44796183510971765, -2....   0   0   0   0   \n",
       "6  [3.5121682838735055, 6.373154783754639, 4.1088...   0   0   0   0   \n",
       "7  [-1.687204458083305, 1.1737820417978284, -1.09...   0   0   0   0   \n",
       "8  [-0.9532859534480105, 1.907700546433123, -0.35...   0   0   0   0   \n",
       "9  [-1.5913293488321916, 1.2696571510489418, -0.9...   0   0   0   0   \n",
       "\n",
       "                                                 xyd  \n",
       "0  [0.0, 2.943418137363309, 3.032755415096407, 2....  \n",
       "1  [2.943418137363309, 0.0, 3.2145650506446706, 2...  \n",
       "2  [3.032755415096407, 3.2145650506446706, 0.0, 0...  \n",
       "3  [2.31777707066368, 2.6931957581365644, 0.74961...  \n",
       "4  [3.2046578758305926, 2.839453668673326, 0.5827...  \n",
       "5  [7.4152493627864855, 5.961164172309785, 4.5574...  \n",
       "6  [3.811933351134986, 6.733567772470953, 6.06066...  \n",
       "7  [4.463516875302556, 3.6353479824857, 1.5912861...  \n",
       "8  [2.015420170541752, 3.11889757457551, 4.762558...  \n",
       "9  [2.2868184643992793, 2.6570153686740023, 4.721...  "
      ]
     },
     "execution_count": 43,
     "metadata": {},
     "output_type": "execute_result"
    }
   ],
   "source": [
    "pos"
   ]
  },
  {
   "cell_type": "code",
   "execution_count": 56,
   "id": "c3473406",
   "metadata": {},
   "outputs": [
    {
     "data": {
      "text/plain": [
       "array([0, 0, 0, 0, 0, 0, 0, 0, 0, 0], dtype=int64)"
      ]
     },
     "execution_count": 56,
     "metadata": {},
     "output_type": "execute_result"
    }
   ],
   "source": [
    "np.where(pos['ya'] == 0, 0, pos['yv'])"
   ]
  },
  {
   "cell_type": "code",
   "execution_count": 39,
   "id": "bb404655",
   "metadata": {},
   "outputs": [],
   "source": [
    "pos['xyd'] = pos['xyd'].apply(lambda arr: np.where(arr == 0, np.nan, arr))"
   ]
  },
  {
   "cell_type": "code",
   "execution_count": 64,
   "id": "df79548c",
   "metadata": {},
   "outputs": [],
   "source": [
    "a=np.zeros((10,10))"
   ]
  },
  {
   "cell_type": "code",
   "execution_count": 65,
   "id": "4fff796e",
   "metadata": {},
   "outputs": [
    {
     "data": {
      "text/plain": [
       "0.0"
      ]
     },
     "execution_count": 65,
     "metadata": {},
     "output_type": "execute_result"
    }
   ],
   "source": [
    "a[2][3]"
   ]
  },
  {
   "cell_type": "code",
   "execution_count": 67,
   "id": "f95136c3",
   "metadata": {},
   "outputs": [],
   "source": [
    "line=np.zeros((10,10))\n",
    "for i in range(len(pos)):\n",
    "    for j in range(len(pos)):\n",
    "        line[i][j]=1"
   ]
  },
  {
   "cell_type": "code",
   "execution_count": 75,
   "id": "3fb55ecc",
   "metadata": {},
   "outputs": [],
   "source": [
    "line=list(line)"
   ]
  },
  {
   "cell_type": "code",
   "execution_count": 76,
   "id": "0208c5fd",
   "metadata": {},
   "outputs": [
    {
     "data": {
      "text/plain": [
       "numpy.float64"
      ]
     },
     "execution_count": 76,
     "metadata": {},
     "output_type": "execute_result"
    }
   ],
   "source": [
    "type(line[2][3])"
   ]
  },
  {
   "cell_type": "code",
   "execution_count": 101,
   "id": "0b538fec",
   "metadata": {},
   "outputs": [
    {
     "data": {
      "text/plain": [
       "array([0.        , 2.94341814, 3.03275542, 2.31777707, 3.20465788,\n",
       "       7.41524936, 3.81193335, 4.46351688, 2.01542017, 2.28681846])"
      ]
     },
     "execution_count": 101,
     "metadata": {},
     "output_type": "execute_result"
    }
   ],
   "source": [
    "pos['xyd'][0]"
   ]
  },
  {
   "cell_type": "code",
   "execution_count": 95,
   "id": "bb0d79d6",
   "metadata": {},
   "outputs": [
    {
     "data": {
      "text/plain": [
       "3.1491546723119046"
      ]
     },
     "execution_count": 95,
     "metadata": {},
     "output_type": "execute_result"
    }
   ],
   "source": [
    "pos['xyd'][0].mean()"
   ]
  },
  {
   "cell_type": "code",
   "execution_count": 96,
   "id": "2306342c",
   "metadata": {},
   "outputs": [
    {
     "data": {
      "text/plain": [
       "array([3.14915467, 3.37966255, 2.92734428, 2.75731225, 2.89160706,\n",
       "       5.80926088, 5.64883109, 3.54854492, 3.84864446, 3.82753359])"
      ]
     },
     "execution_count": 96,
     "metadata": {},
     "output_type": "execute_result"
    }
   ],
   "source": [
    "pos['xyd'].mean()"
   ]
  },
  {
   "cell_type": "code",
   "execution_count": 119,
   "id": "3da9efa9",
   "metadata": {},
   "outputs": [],
   "source": [
    "pos['xyd'] = pos['xyd'].apply(lambda arr: np.where(arr > 5, np.nan, arr))"
   ]
  },
  {
   "cell_type": "code",
   "execution_count": 131,
   "id": "03e9d9a4",
   "metadata": {},
   "outputs": [
    {
     "data": {
      "text/plain": [
       "0    [0.0, 2.943418137363309, 3.032755415096407, 2....\n",
       "1    [2.943418137363309, 0.0, 3.2145650506446706, 2...\n",
       "2    [3.032755415096407, 3.2145650506446706, 0.0, 0...\n",
       "3    [2.31777707066368, 2.6931957581365644, 0.74961...\n",
       "4    [3.2046578758305926, 2.839453668673326, 0.5827...\n",
       "5    [nan, nan, 4.557470242359649, nan, 4.231228613...\n",
       "6    [3.811933351134986, nan, nan, nan, nan, nan, 0...\n",
       "7    [4.463516875302556, 3.6353479824857, 1.5912861...\n",
       "8    [2.015420170541752, 3.11889757457551, 4.762558...\n",
       "9    [2.2868184643992793, 2.6570153686740023, 4.721...\n",
       "Name: xyd, dtype: object"
      ]
     },
     "execution_count": 131,
     "metadata": {},
     "output_type": "execute_result"
    }
   ],
   "source": [
    "pos['xyd']"
   ]
  },
  {
   "cell_type": "code",
   "execution_count": 133,
   "id": "2136e2d3",
   "metadata": {},
   "outputs": [
    {
     "data": {
      "text/plain": [
       "2.6178102530432823"
      ]
     },
     "execution_count": 133,
     "metadata": {},
     "output_type": "execute_result"
    }
   ],
   "source": [
    "pos['xyd'].apply(lambda x: np.nanmean(x)).mean()"
   ]
  },
  {
   "cell_type": "code",
   "execution_count": null,
   "id": "961f11f4",
   "metadata": {},
   "outputs": [],
   "source": []
  }
 ],
 "metadata": {
  "kernelspec": {
   "display_name": "Python 3 (ipykernel)",
   "language": "python",
   "name": "python3"
  },
  "language_info": {
   "codemirror_mode": {
    "name": "ipython",
    "version": 3
   },
   "file_extension": ".py",
   "mimetype": "text/x-python",
   "name": "python",
   "nbconvert_exporter": "python",
   "pygments_lexer": "ipython3",
   "version": "3.11.4"
  }
 },
 "nbformat": 4,
 "nbformat_minor": 5
}
